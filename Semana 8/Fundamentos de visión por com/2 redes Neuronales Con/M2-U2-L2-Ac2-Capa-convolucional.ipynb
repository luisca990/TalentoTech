{
 "cells": [
  {
   "cell_type": "code",
   "execution_count": 2,
   "metadata": {},
   "outputs": [],
   "source": [
    "import cv2\n",
    "import numpy as np\n",
    "\n",
    "image = cv2.imread('descarga.jpg')\n",
    "\n",
    "kernel=np.array([[0,-1,0]\n",
    "                ,[-1,5,-1]\n",
    "                ,[0,-1,0]])\n",
    "\n",
    "convolved_image=cv2.filter2D(image,-1,kernel)\n",
    "\n",
    "cv2.imshow('Original image',image)\n",
    "cv2.imshow('Convolved image',convolved_image)\n",
    "cv2.waitKey(0)\n",
    "cv2.destroyAllWindows()"
   ]
  },
  {
   "cell_type": "code",
   "execution_count": 4,
   "metadata": {},
   "outputs": [],
   "source": [
    "kernel=np.array([[-1,0,1]\n",
    "                ,[-2,0,2]\n",
    "                ,[-1,0,1]])\n",
    "\n",
    "convolved_image=cv2.filter2D(image,-1,kernel)\n",
    "\n",
    "cv2.imshow('Original image',image)\n",
    "cv2.imshow('Convolved image',convolved_image)\n",
    "cv2.waitKey(0)\n",
    "cv2.destroyAllWindows()"
   ]
  },
  {
   "cell_type": "code",
   "execution_count": 5,
   "metadata": {},
   "outputs": [],
   "source": [
    "kernel=np.array([[-1,-2,-1]\n",
    "                ,[0,0,0]\n",
    "                ,[1,2,1]])\n",
    "\n",
    "convolved_image=cv2.filter2D(image,-1,kernel)\n",
    "\n",
    "cv2.imshow('Original image',image)\n",
    "cv2.imshow('Convolved image',convolved_image)\n",
    "cv2.waitKey(0)\n",
    "cv2.destroyAllWindows()"
   ]
  },
  {
   "cell_type": "code",
   "execution_count": null,
   "metadata": {},
   "outputs": [],
   "source": []
  }
 ],
 "metadata": {
  "kernelspec": {
   "display_name": "Python (mlops)",
   "language": "python",
   "name": "mlops"
  },
  "language_info": {
   "codemirror_mode": {
    "name": "ipython",
    "version": 3
   },
   "file_extension": ".py",
   "mimetype": "text/x-python",
   "name": "python",
   "nbconvert_exporter": "python",
   "pygments_lexer": "ipython3",
   "version": "3.11.4"
  }
 },
 "nbformat": 4,
 "nbformat_minor": 2
}
